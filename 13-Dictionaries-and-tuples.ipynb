{
 "cells": [
  {
   "cell_type": "code",
   "execution_count": 1,
   "id": "d13ae96d",
   "metadata": {},
   "outputs": [],
   "source": [
    "d = {\n",
    "    \"tom\": 1234567890,\n",
    "    \"rob\": 1234567891,\n",
    "    \"joe\": 1234567892,\n",
    "}"
   ]
  },
  {
   "cell_type": "code",
   "execution_count": 2,
   "id": "c3c26277",
   "metadata": {},
   "outputs": [
    {
     "data": {
      "text/plain": [
       "{'tom': 1234567890, 'rob': 1234567891, 'joe': 1234567892}"
      ]
     },
     "execution_count": 2,
     "metadata": {},
     "output_type": "execute_result"
    }
   ],
   "source": [
    "d"
   ]
  },
  {
   "cell_type": "code",
   "execution_count": 3,
   "id": "5ee0affa",
   "metadata": {},
   "outputs": [
    {
     "data": {
      "text/plain": [
       "1234567890"
      ]
     },
     "execution_count": 3,
     "metadata": {},
     "output_type": "execute_result"
    }
   ],
   "source": [
    "d[\"tom\"]"
   ]
  },
  {
   "cell_type": "code",
   "execution_count": 4,
   "id": "51f43c80",
   "metadata": {},
   "outputs": [],
   "source": [
    "d[\"sam\"] = 1234567893"
   ]
  },
  {
   "cell_type": "code",
   "execution_count": 5,
   "id": "3bbb05b6",
   "metadata": {},
   "outputs": [
    {
     "data": {
      "text/plain": [
       "{'tom': 1234567890, 'rob': 1234567891, 'joe': 1234567892, 'sam': 1234567893}"
      ]
     },
     "execution_count": 5,
     "metadata": {},
     "output_type": "execute_result"
    }
   ],
   "source": [
    "d"
   ]
  },
  {
   "cell_type": "code",
   "execution_count": 6,
   "id": "ecbfd4e1",
   "metadata": {},
   "outputs": [],
   "source": [
    "# here the order doesn't matter. "
   ]
  },
  {
   "cell_type": "code",
   "execution_count": 7,
   "id": "ecac726e",
   "metadata": {},
   "outputs": [],
   "source": [
    "del d[\"sam\"] # deleting an item."
   ]
  },
  {
   "cell_type": "code",
   "execution_count": 8,
   "id": "a1c0c3a0",
   "metadata": {},
   "outputs": [
    {
     "data": {
      "text/plain": [
       "{'tom': 1234567890, 'rob': 1234567891, 'joe': 1234567892}"
      ]
     },
     "execution_count": 8,
     "metadata": {},
     "output_type": "execute_result"
    }
   ],
   "source": [
    "d"
   ]
  },
  {
   "cell_type": "code",
   "execution_count": 9,
   "id": "fb6d3d37",
   "metadata": {},
   "outputs": [
    {
     "name": "stdout",
     "output_type": "stream",
     "text": [
      "Key tom value: 1234567890\n",
      "Key rob value: 1234567891\n",
      "Key joe value: 1234567892\n"
     ]
    }
   ],
   "source": [
    "for key in d:\n",
    "    print(\"Key\", key, \"value:\", d[key]) # comma automatically adds blank char."
   ]
  },
  {
   "cell_type": "code",
   "execution_count": 10,
   "id": "864540ee",
   "metadata": {},
   "outputs": [
    {
     "name": "stdout",
     "output_type": "stream",
     "text": [
      "Key tom value: 1234567890\n",
      "Key rob value: 1234567891\n",
      "Key joe value: 1234567892\n"
     ]
    }
   ],
   "source": [
    "for k,v in d.items():\n",
    "    print(\"Key\", k, \"value:\", v)"
   ]
  },
  {
   "cell_type": "code",
   "execution_count": 11,
   "id": "9e36935d",
   "metadata": {},
   "outputs": [
    {
     "data": {
      "text/plain": [
       "True"
      ]
     },
     "execution_count": 11,
     "metadata": {},
     "output_type": "execute_result"
    }
   ],
   "source": [
    "\"tom\" in d"
   ]
  },
  {
   "cell_type": "code",
   "execution_count": 12,
   "id": "62b34c23",
   "metadata": {},
   "outputs": [
    {
     "data": {
      "text/plain": [
       "False"
      ]
     },
     "execution_count": 12,
     "metadata": {},
     "output_type": "execute_result"
    }
   ],
   "source": [
    "\"sameer\" in d"
   ]
  },
  {
   "cell_type": "code",
   "execution_count": 13,
   "id": "939fc7da",
   "metadata": {},
   "outputs": [
    {
     "data": {
      "text/plain": [
       "{}"
      ]
     },
     "execution_count": 13,
     "metadata": {},
     "output_type": "execute_result"
    }
   ],
   "source": [
    "d.clear()\n",
    "d"
   ]
  },
  {
   "cell_type": "code",
   "execution_count": 14,
   "id": "69e1610a",
   "metadata": {},
   "outputs": [],
   "source": [
    "point = (5,9)"
   ]
  },
  {
   "cell_type": "code",
   "execution_count": 15,
   "id": "a721d3a0",
   "metadata": {},
   "outputs": [
    {
     "data": {
      "text/plain": [
       "5"
      ]
     },
     "execution_count": 15,
     "metadata": {},
     "output_type": "execute_result"
    }
   ],
   "source": [
    "point[0]"
   ]
  },
  {
   "cell_type": "code",
   "execution_count": 16,
   "id": "10572339",
   "metadata": {},
   "outputs": [
    {
     "data": {
      "text/plain": [
       "9"
      ]
     },
     "execution_count": 16,
     "metadata": {},
     "output_type": "execute_result"
    }
   ],
   "source": [
    "point[1]"
   ]
  },
  {
   "cell_type": "code",
   "execution_count": 19,
   "id": "f754089e",
   "metadata": {},
   "outputs": [],
   "source": [
    "note = \"\"\"\n",
    "List uses []\n",
    "tuple uses ()\n",
    "dictionary uses {}\n",
    "set uses set()\n",
    "\n",
    "List: all values have similar meaning(homogeneous)\n",
    "Tuple: All values have different meaning(heterogeneous)\n",
    "In \"point\" example 5 is for x-coordinate and 9 is for y-coordinate.\n",
    "\n",
    "tuples are immutable, lists are mutable. \n",
    "\n",
    "\"\"\""
   ]
  },
  {
   "cell_type": "code",
   "execution_count": null,
   "id": "1abad912",
   "metadata": {},
   "outputs": [],
   "source": []
  }
 ],
 "metadata": {
  "kernelspec": {
   "display_name": "Python 3 (ipykernel)",
   "language": "python",
   "name": "python3"
  },
  "language_info": {
   "codemirror_mode": {
    "name": "ipython",
    "version": 3
   },
   "file_extension": ".py",
   "mimetype": "text/x-python",
   "name": "python",
   "nbconvert_exporter": "python",
   "pygments_lexer": "ipython3",
   "version": "3.10.9"
  }
 },
 "nbformat": 4,
 "nbformat_minor": 5
}
