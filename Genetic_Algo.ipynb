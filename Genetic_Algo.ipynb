{
 "cells": [
  {
   "cell_type": "code",
   "execution_count": 1,
   "id": "d8a7a084",
   "metadata": {},
   "outputs": [],
   "source": [
    "import pandas as pd\n",
    "import numpy as np"
   ]
  },
  {
   "cell_type": "code",
   "execution_count": 10,
   "id": "4f00a213",
   "metadata": {},
   "outputs": [],
   "source": [
    "# cost function\n",
    "def sphere(x):\n",
    "    return sum(x**2)\n",
    "\n",
    "# Placeholder for every individual\n",
    "population = {}\n",
    "# population size\n",
    "npop = 20\n",
    "# lower bound\n",
    "varmin = -10\n",
    "varmax = 10\n",
    "num_var = 5\n",
    "# cost function\n",
    "costfunc = sphere\n",
    "# each inidivdual has position(chromosomes) and cost\n",
    "for i in range(npop):\n",
    "    population[i] = {'position': None, 'cost': None}\n",
    "for i in range(npop):\n",
    "    population[i]['position'] = np.random.uniform(varmin, varmax, num_var)\n",
    "    population[i]['cost'] = costfunc(population[i]['position'])"
   ]
  },
  {
   "cell_type": "code",
   "execution_count": 11,
   "id": "906b64b8",
   "metadata": {},
   "outputs": [
    {
     "data": {
      "text/plain": [
       "{0: {'position': array([ 5.63295829,  3.01200814,  1.18587243, -9.90888175,  0.2290664 ]),\n",
       "  'cost': 140.4471146541771},\n",
       " 1: {'position': array([-5.63311526,  0.82674408,  7.16307279, -4.0975119 , -4.66767608]),\n",
       "  'cost': 122.30190883607477},\n",
       " 2: {'position': array([ 2.51034524,  5.6829285 , -6.80156831, -5.48978736, -5.87921792]),\n",
       "  'cost': 149.56180954317216},\n",
       " 3: {'position': array([ 6.93539918,  2.78427156, -2.11663852,  6.07923202, -2.12619397]),\n",
       "  'cost': 101.80985125164793},\n",
       " 4: {'position': array([-6.86910148, -4.44284698,  2.28215859,  7.02794569,  5.94196361]),\n",
       "  'cost': 156.83064435452542},\n",
       " 5: {'position': array([-3.50762875, -9.61096528,  4.82341819,  3.80660288, -7.44862618]),\n",
       "  'cost': 197.91173336423543},\n",
       " 6: {'position': array([ 6.16070701,  9.51321465,  2.95664242,  0.88057462, -5.96353625]),\n",
       "  'cost': 173.53647441740324},\n",
       " 7: {'position': array([0.33488631, 1.31159255, 9.80408298, 0.42653951, 2.05607849]),\n",
       "  'cost': 102.36186158941089},\n",
       " 8: {'position': array([ 7.79622905, -0.32102487, -4.13153662,  1.19347564,  6.89973144]),\n",
       "  'cost': 126.98451734773461},\n",
       " 9: {'position': array([-6.28281386,  3.82720311,  1.24740209, -1.08731499,  7.59772015]),\n",
       "  'cost': 114.58485097125299},\n",
       " 10: {'position': array([-7.06426958, -9.08803431,  6.33777463,  2.33380851, -3.30092471]),\n",
       "  'cost': 189.00642572324696},\n",
       " 11: {'position': array([ 4.71920426, -4.38080055,  4.03436587, -3.74950056,  0.7511124 ]),\n",
       "  'cost': 72.36133452048885},\n",
       " 12: {'position': array([-8.40800666, -4.6885472 , -7.89026619, -2.56781593, -2.94694959]),\n",
       "  'cost': 170.21154188277137},\n",
       " 13: {'position': array([ 6.49500571, -5.8993636 , -6.15497214, -7.19827813, -9.46187986]),\n",
       "  'cost': 256.2136506076073},\n",
       " 14: {'position': array([ 2.71709496,  3.06492821, -8.83201127, -4.34847502,  9.76748745]),\n",
       "  'cost': 209.0938591252677},\n",
       " 15: {'position': array([1.70498052, 4.63911547, 5.74896101, 2.07474702, 3.0339745 ]),\n",
       "  'cost': 70.98848013995372},\n",
       " 16: {'position': array([ 6.85620033,  1.76990203,  3.78619319, -6.14649241, -4.60054773]),\n",
       "  'cost': 123.41970330789259},\n",
       " 17: {'position': array([-3.82189211, -8.58121429,  4.79462519, -5.61762795, -8.45078794]),\n",
       "  'cost': 214.20608919206347},\n",
       " 18: {'position': array([-6.52881404, -8.84223828, -9.88033471, -0.24852424, -3.30432308]),\n",
       "  'cost': 229.41192001007758},\n",
       " 19: {'position': array([ 2.73773125,  3.87327397, -2.79273787, -8.78717063, -0.0096245 ]),\n",
       "  'cost': 107.51126876564678}}"
      ]
     },
     "execution_count": 11,
     "metadata": {},
     "output_type": "execute_result"
    }
   ],
   "source": [
    "population"
   ]
  },
  {
   "cell_type": "code",
   "execution_count": 12,
   "id": "96aec9f6",
   "metadata": {},
   "outputs": [],
   "source": [
    "q = np.random.permutation(npop)\n",
    "p1 = population[q[0]]\n",
    "p2 = population[q[1]]"
   ]
  },
  {
   "cell_type": "code",
   "execution_count": 14,
   "id": "73ebd6ac",
   "metadata": {},
   "outputs": [],
   "source": [
    "def crossover(p1, p2):\n",
    "    c1 = copy.deepcopy(p1)\n",
    "    c2 = copy.deepcopy(p2)\n",
    "    alpha = np.random.uniform(0, 1, *(c1['position'].shape))\n",
    "    c1['position'] = alpha*p1['position'] + (1-alpha)*p2['position']\n",
    "    c2['position'] = alpha*p2['position'] + (1-alpha)*p1['position'] \n",
    "    return c1, c2\n",
    "\n",
    "def mutate(c, mu, sigma):\n",
    "   # mu - mutation rate. % of gene to be modified\n",
    "   # sigma - step size of mutation\n",
    "   # mutation = original gene + (step size * random number)   \n",
    "    y = copy.deepcopy(c)   \n",
    "   # array of True and Flase, indicating the mutation position\n",
    "    flag = np.random.rand(*(c['position'].shape)) <= mu\n",
    "    ind = np.argwhere(flag)\n",
    "    y['position'][ind] += sigma * np.random.randn(*ind.shape)\n",
    "    return y"
   ]
  },
  {
   "cell_type": "code",
   "execution_count": 20,
   "id": "accd6f6c",
   "metadata": {},
   "outputs": [],
   "source": [
    "# Evaluate first off spring\n",
    "# calculate cost function of child 1\n",
    "def evaluate(c1, c2):\n",
    "    c1['cost'] = costfunc(c1['position'])\n",
    "    if type(bestsol_cost) == float:\n",
    "      # replacing best solution in every generation/iteration\n",
    "      if c1['cost'] < bestsol_cost:\n",
    "            bestsol_cost = copy.deepcopy(c1)\n",
    "    else:\n",
    "       # replacing best solution in every generation/iteration\n",
    "       if c1['cost'] < bestsol_cost['cost']:\n",
    "            bestsol_cost = copy.deepcopy(c1)\n",
    "    # Evaluate second off spring\n",
    "    if c2['cost'] < bestsol_cost['cost']:\n",
    "        bestsol_cost = copy.deepcopy(c2)"
   ]
  }
 ],
 "metadata": {
  "kernelspec": {
   "display_name": "Python 3 (ipykernel)",
   "language": "python",
   "name": "python3"
  },
  "language_info": {
   "codemirror_mode": {
    "name": "ipython",
    "version": 3
   },
   "file_extension": ".py",
   "mimetype": "text/x-python",
   "name": "python",
   "nbconvert_exporter": "python",
   "pygments_lexer": "ipython3",
   "version": "3.10.9"
  }
 },
 "nbformat": 4,
 "nbformat_minor": 5
}
