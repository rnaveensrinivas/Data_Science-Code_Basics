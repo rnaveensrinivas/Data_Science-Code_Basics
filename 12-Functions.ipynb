{
 "cells": [
  {
   "cell_type": "code",
   "execution_count": 1,
   "id": "cefd3d58",
   "metadata": {},
   "outputs": [],
   "source": [
    "# given two lists, find total of each.\n",
    "\n",
    "tom_exp_list = [2100, 3400, 3500]\n",
    "joe_exp_list = [200, 500, 700]"
   ]
  },
  {
   "cell_type": "code",
   "execution_count": 5,
   "id": "35327a3e",
   "metadata": {},
   "outputs": [
    {
     "name": "stdout",
     "output_type": "stream",
     "text": [
      "Tom's total expenses:  9000\n",
      "Joe's total expenses:  1400\n"
     ]
    }
   ],
   "source": [
    "total = 0\n",
    "for exp in tom_exp_list:\n",
    "    total += exp\n",
    "print(\"Tom's total expenses: \", total)\n",
    "\n",
    "total = 0\n",
    "for exp in joe_exp_list:\n",
    "    total += exp\n",
    "print(\"Joe's total expenses: \", total)"
   ]
  },
  {
   "cell_type": "code",
   "execution_count": 6,
   "id": "f58fc086",
   "metadata": {},
   "outputs": [],
   "source": [
    "def calculate_total(exp):\n",
    "    total = 0\n",
    "    for item in exp:\n",
    "        total += item\n",
    "    return total"
   ]
  },
  {
   "cell_type": "code",
   "execution_count": 7,
   "id": "5daa34fd",
   "metadata": {},
   "outputs": [],
   "source": [
    "toms_total = calculate_total(tom_exp_list)\n",
    "joes_total = calculate_total(joe_exp_list)"
   ]
  },
  {
   "cell_type": "code",
   "execution_count": 8,
   "id": "cc17dd08",
   "metadata": {},
   "outputs": [
    {
     "name": "stdout",
     "output_type": "stream",
     "text": [
      "Tom's total expenses:  9000\n",
      "Joe's total expenses:  1400\n"
     ]
    }
   ],
   "source": [
    "print(\"Tom's total expenses: \", toms_total)\n",
    "print(\"Joe's total expenses: \", joes_total)"
   ]
  },
  {
   "cell_type": "code",
   "execution_count": 9,
   "id": "bbaa8130",
   "metadata": {},
   "outputs": [],
   "source": [
    "def sum(a, b):\n",
    "    total = a + b\n",
    "    return total"
   ]
  },
  {
   "cell_type": "code",
   "execution_count": 12,
   "id": "ad470350",
   "metadata": {},
   "outputs": [
    {
     "data": {
      "text/plain": [
       "11"
      ]
     },
     "execution_count": 12,
     "metadata": {},
     "output_type": "execute_result"
    }
   ],
   "source": [
    "# arguements are of two types, positional and named. \n",
    "n = sum(5, 6) # positional arguments\n",
    "n"
   ]
  },
  {
   "cell_type": "code",
   "execution_count": 14,
   "id": "58b06b49",
   "metadata": {},
   "outputs": [
    {
     "data": {
      "text/plain": [
       "11"
      ]
     },
     "execution_count": 14,
     "metadata": {},
     "output_type": "execute_result"
    }
   ],
   "source": [
    "n = sum(b = 6, a = 5) # named arguments\n",
    "n"
   ]
  },
  {
   "cell_type": "code",
   "execution_count": 15,
   "id": "3f9dffe7",
   "metadata": {},
   "outputs": [],
   "source": [
    "# name error: pings error for global and local variable. "
   ]
  },
  {
   "cell_type": "code",
   "execution_count": 16,
   "id": "c9119449",
   "metadata": {},
   "outputs": [
    {
     "ename": "TypeError",
     "evalue": "sum() missing 1 required positional argument: 'b'",
     "output_type": "error",
     "traceback": [
      "\u001b[1;31m---------------------------------------------------------------------------\u001b[0m",
      "\u001b[1;31mTypeError\u001b[0m                                 Traceback (most recent call last)",
      "Cell \u001b[1;32mIn[16], line 2\u001b[0m\n\u001b[0;32m      1\u001b[0m \u001b[38;5;66;03m# default arguments\u001b[39;00m\n\u001b[1;32m----> 2\u001b[0m n \u001b[38;5;241m=\u001b[39m \u001b[38;5;28;43msum\u001b[39;49m\u001b[43m(\u001b[49m\u001b[38;5;241;43m5\u001b[39;49m\u001b[43m)\u001b[49m\n",
      "\u001b[1;31mTypeError\u001b[0m: sum() missing 1 required positional argument: 'b'"
     ]
    }
   ],
   "source": [
    "# default arguments\n",
    "n = sum(5)"
   ]
  },
  {
   "cell_type": "code",
   "execution_count": 17,
   "id": "bc5e4d74",
   "metadata": {},
   "outputs": [],
   "source": [
    "def sum(a, b = 0):\n",
    "    total = a + b\n",
    "    return total"
   ]
  },
  {
   "cell_type": "code",
   "execution_count": 20,
   "id": "efbf5356",
   "metadata": {},
   "outputs": [
    {
     "data": {
      "text/plain": [
       "5"
      ]
     },
     "execution_count": 20,
     "metadata": {},
     "output_type": "execute_result"
    }
   ],
   "source": [
    "n = sum(5)\n",
    "n"
   ]
  },
  {
   "cell_type": "code",
   "execution_count": 21,
   "id": "cb78185a",
   "metadata": {},
   "outputs": [],
   "source": [
    "# Documentation strings. For explaining what the function is doing."
   ]
  },
  {
   "cell_type": "code",
   "execution_count": 22,
   "id": "8af04c4d",
   "metadata": {},
   "outputs": [],
   "source": [
    "def sum(a, b = 0):\n",
    "    \"\"\"\n",
    "    This function takes two arguments a and b.\n",
    "    And returns sum of a and b. \n",
    "    \"\"\"   \n",
    "    total = a + b\n",
    "    return total"
   ]
  },
  {
   "cell_type": "code",
   "execution_count": 23,
   "id": "949d3b3d",
   "metadata": {},
   "outputs": [
    {
     "name": "stdout",
     "output_type": "stream",
     "text": [
      "Help on function sum in module __main__:\n",
      "\n",
      "sum(a, b=0)\n",
      "    This function takes two arguments a and b.\n",
      "    And returns sum of a and b.\n",
      "\n"
     ]
    }
   ],
   "source": [
    "help(sum)"
   ]
  },
  {
   "cell_type": "code",
   "execution_count": null,
   "id": "1d06a52c",
   "metadata": {},
   "outputs": [],
   "source": []
  }
 ],
 "metadata": {
  "kernelspec": {
   "display_name": "Python 3 (ipykernel)",
   "language": "python",
   "name": "python3"
  },
  "language_info": {
   "codemirror_mode": {
    "name": "ipython",
    "version": 3
   },
   "file_extension": ".py",
   "mimetype": "text/x-python",
   "name": "python",
   "nbconvert_exporter": "python",
   "pygments_lexer": "ipython3",
   "version": "3.10.9"
  }
 },
 "nbformat": 4,
 "nbformat_minor": 5
}
