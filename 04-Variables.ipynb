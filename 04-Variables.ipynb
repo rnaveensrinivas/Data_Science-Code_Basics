{
 "cells": [
  {
   "cell_type": "code",
   "execution_count": 1,
   "id": "d6cd5cd4",
   "metadata": {},
   "outputs": [],
   "source": [
    "rent = 1220"
   ]
  },
  {
   "cell_type": "code",
   "execution_count": 2,
   "id": "1c4bc34c",
   "metadata": {},
   "outputs": [],
   "source": [
    "gas = 202.5"
   ]
  },
  {
   "cell_type": "code",
   "execution_count": 3,
   "id": "b387f40c",
   "metadata": {},
   "outputs": [],
   "source": [
    "groceries = 305.6"
   ]
  },
  {
   "cell_type": "code",
   "execution_count": 4,
   "id": "9080a2cb",
   "metadata": {},
   "outputs": [
    {
     "name": "stdout",
     "output_type": "stream",
     "text": [
      "1220\n"
     ]
    }
   ],
   "source": [
    "print(rent)"
   ]
  },
  {
   "cell_type": "code",
   "execution_count": 5,
   "id": "52f64544",
   "metadata": {},
   "outputs": [],
   "source": [
    "total = rent + gas + groceries"
   ]
  },
  {
   "cell_type": "code",
   "execution_count": 6,
   "id": "b288e1eb",
   "metadata": {},
   "outputs": [
    {
     "name": "stdout",
     "output_type": "stream",
     "text": [
      "1728.1\n"
     ]
    }
   ],
   "source": [
    "print(total)"
   ]
  },
  {
   "cell_type": "code",
   "execution_count": 7,
   "id": "0290d972",
   "metadata": {},
   "outputs": [],
   "source": [
    "rent = 1400"
   ]
  },
  {
   "cell_type": "code",
   "execution_count": 8,
   "id": "34da1967",
   "metadata": {},
   "outputs": [],
   "source": [
    "item1 = \"rent\""
   ]
  },
  {
   "cell_type": "code",
   "execution_count": 9,
   "id": "6f63f1ea",
   "metadata": {},
   "outputs": [],
   "source": [
    "item2 = \"gas\""
   ]
  },
  {
   "cell_type": "code",
   "execution_count": 10,
   "id": "b20444c3",
   "metadata": {},
   "outputs": [],
   "source": [
    "item3 = \"groceries\""
   ]
  },
  {
   "cell_type": "code",
   "execution_count": 11,
   "id": "39472254",
   "metadata": {},
   "outputs": [
    {
     "name": "stdout",
     "output_type": "stream",
     "text": [
      "Expense items: rent gas groceries\n"
     ]
    }
   ],
   "source": [
    "print(\"Expense items:\", item1, item2, item3)"
   ]
  },
  {
   "cell_type": "code",
   "execution_count": 12,
   "id": "d005e76e",
   "metadata": {},
   "outputs": [
    {
     "ename": "SyntaxError",
     "evalue": "cannot assign to True (2674404757.py, line 1)",
     "output_type": "error",
     "traceback": [
      "\u001b[1;36m  Cell \u001b[1;32mIn[12], line 1\u001b[1;36m\u001b[0m\n\u001b[1;33m    True = 23\u001b[0m\n\u001b[1;37m    ^\u001b[0m\n\u001b[1;31mSyntaxError\u001b[0m\u001b[1;31m:\u001b[0m cannot assign to True\n"
     ]
    }
   ],
   "source": [
    "True = 23"
   ]
  },
  {
   "cell_type": "code",
   "execution_count": 1,
   "id": "619d9c82",
   "metadata": {},
   "outputs": [
    {
     "ename": "SyntaxError",
     "evalue": "cannot assign to expression here. Maybe you meant '==' instead of '='? (351653270.py, line 1)",
     "output_type": "error",
     "traceback": [
      "\u001b[1;36m  Cell \u001b[1;32mIn[1], line 1\u001b[1;36m\u001b[0m\n\u001b[1;33m    a@2 = 23\u001b[0m\n\u001b[1;37m    ^\u001b[0m\n\u001b[1;31mSyntaxError\u001b[0m\u001b[1;31m:\u001b[0m cannot assign to expression here. Maybe you meant '==' instead of '='?\n"
     ]
    }
   ],
   "source": [
    "a@2 = 23"
   ]
  },
  {
   "cell_type": "code",
   "execution_count": 13,
   "id": "e8351bf1",
   "metadata": {},
   "outputs": [
    {
     "name": "stdout",
     "output_type": "stream",
     "text": [
      "['False', 'None', 'True', 'and', 'as', 'assert', 'async', 'await', 'break', 'class', 'continue', 'def', 'del', 'elif', 'else', 'except', 'finally', 'for', 'from', 'global', 'if', 'import', 'in', 'is', 'lambda', 'nonlocal', 'not', 'or', 'pass', 'raise', 'return', 'try', 'while', 'with', 'yield']\n"
     ]
    }
   ],
   "source": [
    "# we cannot use keywords as variable names. \n",
    "import keyword\n",
    "print(keyword.kwlist)"
   ]
  },
  {
   "cell_type": "code",
   "execution_count": null,
   "id": "1e5fe62f",
   "metadata": {},
   "outputs": [],
   "source": []
  }
 ],
 "metadata": {
  "kernelspec": {
   "display_name": "Python 3 (ipykernel)",
   "language": "python",
   "name": "python3"
  },
  "language_info": {
   "codemirror_mode": {
    "name": "ipython",
    "version": 3
   },
   "file_extension": ".py",
   "mimetype": "text/x-python",
   "name": "python",
   "nbconvert_exporter": "python",
   "pygments_lexer": "ipython3",
   "version": "3.10.9"
  }
 },
 "nbformat": 4,
 "nbformat_minor": 5
}
