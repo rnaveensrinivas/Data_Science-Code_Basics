{
 "cells": [
  {
   "cell_type": "code",
   "execution_count": 1,
   "id": "3965851f",
   "metadata": {},
   "outputs": [
    {
     "data": {
      "text/plain": [
       "46"
      ]
     },
     "execution_count": 1,
     "metadata": {},
     "output_type": "execute_result"
    }
   ],
   "source": [
    "12 + 34"
   ]
  },
  {
   "cell_type": "code",
   "execution_count": 2,
   "id": "0a3066ca",
   "metadata": {},
   "outputs": [
    {
     "data": {
      "text/plain": [
       "-1"
      ]
     },
     "execution_count": 2,
     "metadata": {},
     "output_type": "execute_result"
    }
   ],
   "source": [
    "3 - 4"
   ]
  },
  {
   "cell_type": "code",
   "execution_count": 3,
   "id": "1941981e",
   "metadata": {},
   "outputs": [
    {
     "data": {
      "text/plain": [
       "0.75"
      ]
     },
     "execution_count": 3,
     "metadata": {},
     "output_type": "execute_result"
    }
   ],
   "source": [
    "3 / 4"
   ]
  },
  {
   "cell_type": "code",
   "execution_count": 4,
   "id": "404841eb",
   "metadata": {},
   "outputs": [
    {
     "data": {
      "text/plain": [
       "20"
      ]
     },
     "execution_count": 4,
     "metadata": {},
     "output_type": "execute_result"
    }
   ],
   "source": [
    "4 * 5"
   ]
  },
  {
   "cell_type": "code",
   "execution_count": 5,
   "id": "87645e29",
   "metadata": {},
   "outputs": [
    {
     "data": {
      "text/plain": [
       "1"
      ]
     },
     "execution_count": 5,
     "metadata": {},
     "output_type": "execute_result"
    }
   ],
   "source": [
    "11 % 2"
   ]
  },
  {
   "cell_type": "code",
   "execution_count": 6,
   "id": "3ba50238",
   "metadata": {},
   "outputs": [
    {
     "data": {
      "text/plain": [
       "9"
      ]
     },
     "execution_count": 6,
     "metadata": {},
     "output_type": "execute_result"
    }
   ],
   "source": [
    "3 ** 2"
   ]
  },
  {
   "cell_type": "code",
   "execution_count": 7,
   "id": "e56790d3",
   "metadata": {},
   "outputs": [
    {
     "data": {
      "text/plain": [
       "16"
      ]
     },
     "execution_count": 7,
     "metadata": {},
     "output_type": "execute_result"
    }
   ],
   "source": [
    "2 ** 4"
   ]
  },
  {
   "cell_type": "code",
   "execution_count": 8,
   "id": "c71d3e16",
   "metadata": {},
   "outputs": [],
   "source": [
    "nyc_bal = 188"
   ]
  },
  {
   "cell_type": "code",
   "execution_count": 9,
   "id": "38c49f23",
   "metadata": {},
   "outputs": [],
   "source": [
    "bal_pitt = 247"
   ]
  },
  {
   "cell_type": "code",
   "execution_count": 10,
   "id": "1ac5a144",
   "metadata": {},
   "outputs": [],
   "source": [
    "total_distance = nyc_bal + bal_pitt"
   ]
  },
  {
   "cell_type": "code",
   "execution_count": 11,
   "id": "a93d9287",
   "metadata": {},
   "outputs": [
    {
     "data": {
      "text/plain": [
       "435"
      ]
     },
     "execution_count": 11,
     "metadata": {},
     "output_type": "execute_result"
    }
   ],
   "source": [
    "total_distance"
   ]
  },
  {
   "cell_type": "code",
   "execution_count": 12,
   "id": "bd1d0e40",
   "metadata": {},
   "outputs": [],
   "source": [
    "mph = 65"
   ]
  },
  {
   "cell_type": "code",
   "execution_count": 13,
   "id": "2d2a1447",
   "metadata": {},
   "outputs": [],
   "source": [
    "time = total_distance / mph"
   ]
  },
  {
   "cell_type": "code",
   "execution_count": 14,
   "id": "283f0ba2",
   "metadata": {},
   "outputs": [
    {
     "data": {
      "text/plain": [
       "6.6923076923076925"
      ]
     },
     "execution_count": 14,
     "metadata": {},
     "output_type": "execute_result"
    }
   ],
   "source": [
    "time"
   ]
  },
  {
   "cell_type": "code",
   "execution_count": 15,
   "id": "9e74e335",
   "metadata": {},
   "outputs": [
    {
     "data": {
      "text/plain": [
       "6.69"
      ]
     },
     "execution_count": 15,
     "metadata": {},
     "output_type": "execute_result"
    }
   ],
   "source": [
    "round(time, 2)"
   ]
  },
  {
   "cell_type": "code",
   "execution_count": 16,
   "id": "ca03aef3",
   "metadata": {},
   "outputs": [
    {
     "data": {
      "text/plain": [
       "6.692"
      ]
     },
     "execution_count": 16,
     "metadata": {},
     "output_type": "execute_result"
    }
   ],
   "source": [
    "round(time, 3)"
   ]
  },
  {
   "cell_type": "code",
   "execution_count": 17,
   "id": "b07dfa53",
   "metadata": {},
   "outputs": [
    {
     "data": {
      "text/plain": [
       "16"
      ]
     },
     "execution_count": 17,
     "metadata": {},
     "output_type": "execute_result"
    }
   ],
   "source": [
    "10 + 2 * 3"
   ]
  },
  {
   "cell_type": "code",
   "execution_count": 18,
   "id": "b8e8a900",
   "metadata": {},
   "outputs": [
    {
     "data": {
      "text/plain": [
       "36"
      ]
     },
     "execution_count": 18,
     "metadata": {},
     "output_type": "execute_result"
    }
   ],
   "source": [
    "(10 + 2) * 3 "
   ]
  },
  {
   "cell_type": "code",
   "execution_count": 19,
   "id": "69ca6d3a",
   "metadata": {},
   "outputs": [
    {
     "data": {
      "text/plain": [
       "0.2999999999999998"
      ]
     },
     "execution_count": 19,
     "metadata": {},
     "output_type": "execute_result"
    }
   ],
   "source": [
    "6 - 5.7"
   ]
  },
  {
   "cell_type": "code",
   "execution_count": 20,
   "id": "aef1a797",
   "metadata": {},
   "outputs": [
    {
     "data": {
      "text/plain": [
       "0.3"
      ]
     },
     "execution_count": 20,
     "metadata": {},
     "output_type": "execute_result"
    }
   ],
   "source": [
    "round(6 - 5.7, 2)"
   ]
  },
  {
   "cell_type": "code",
   "execution_count": null,
   "id": "6bebdcb8",
   "metadata": {},
   "outputs": [],
   "source": []
  }
 ],
 "metadata": {
  "kernelspec": {
   "display_name": "Python 3 (ipykernel)",
   "language": "python",
   "name": "python3"
  },
  "language_info": {
   "codemirror_mode": {
    "name": "ipython",
    "version": 3
   },
   "file_extension": ".py",
   "mimetype": "text/x-python",
   "name": "python",
   "nbconvert_exporter": "python",
   "pygments_lexer": "ipython3",
   "version": "3.10.9"
  }
 },
 "nbformat": 4,
 "nbformat_minor": 5
}
