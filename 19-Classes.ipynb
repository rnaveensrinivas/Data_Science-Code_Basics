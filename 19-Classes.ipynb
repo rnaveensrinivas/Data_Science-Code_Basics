{
 "cells": [
  {
   "cell_type": "code",
   "execution_count": 1,
   "id": "51133afc",
   "metadata": {},
   "outputs": [],
   "source": [
    "# Any method in python will have self as its first argument. \n",
    "class Human:\n",
    "    def __init__(self, name, occupation): # self means class itself. \n",
    "        self.name = name\n",
    "        self.occupation = occupation\n",
    "    \n",
    "    def do_work(self):\n",
    "        if self.occupation == \"tennis player\":\n",
    "            print(self.name, \"plays tennis\")\n",
    "        elif self.occupation == \"actor\":\n",
    "            print(self.name, \"shoots a film\")\n",
    "    \n",
    "    def speaks(self):\n",
    "        print(self.name, \"says how are you?\")    "
   ]
  },
  {
   "cell_type": "code",
   "execution_count": 3,
   "id": "d2604540",
   "metadata": {},
   "outputs": [
    {
     "name": "stdout",
     "output_type": "stream",
     "text": [
      "tom shoots a film\n",
      "tom says how are you?\n"
     ]
    }
   ],
   "source": [
    "tom = Human('tom', 'actor')\n",
    "tom.do_work()\n",
    "tom.speaks()"
   ]
  },
  {
   "cell_type": "code",
   "execution_count": 4,
   "id": "98b52f40",
   "metadata": {},
   "outputs": [
    {
     "name": "stdout",
     "output_type": "stream",
     "text": [
      "maria sharapova plays tennis\n",
      "maria sharapova says how are you?\n"
     ]
    }
   ],
   "source": [
    "maria = Human('maria sharapova', 'tennis player')\n",
    "maria.do_work()\n",
    "maria.speaks()"
   ]
  },
  {
   "cell_type": "code",
   "execution_count": null,
   "id": "7c0ba732",
   "metadata": {},
   "outputs": [],
   "source": []
  }
 ],
 "metadata": {
  "kernelspec": {
   "display_name": "Python 3 (ipykernel)",
   "language": "python",
   "name": "python3"
  },
  "language_info": {
   "codemirror_mode": {
    "name": "ipython",
    "version": 3
   },
   "file_extension": ".py",
   "mimetype": "text/x-python",
   "name": "python",
   "nbconvert_exporter": "python",
   "pygments_lexer": "ipython3",
   "version": "3.10.9"
  }
 },
 "nbformat": 4,
 "nbformat_minor": 5
}
