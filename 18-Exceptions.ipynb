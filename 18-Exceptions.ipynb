{
 "cells": [
  {
   "cell_type": "code",
   "execution_count": 1,
   "id": "b68232a5",
   "metadata": {},
   "outputs": [
    {
     "ename": "ZeroDivisionError",
     "evalue": "division by zero",
     "output_type": "error",
     "traceback": [
      "\u001b[1;31m---------------------------------------------------------------------------\u001b[0m",
      "\u001b[1;31mZeroDivisionError\u001b[0m                         Traceback (most recent call last)",
      "Cell \u001b[1;32mIn[1], line 1\u001b[0m\n\u001b[1;32m----> 1\u001b[0m \u001b[38;5;241;43m1\u001b[39;49m\u001b[43m \u001b[49m\u001b[38;5;241;43m/\u001b[39;49m\u001b[43m \u001b[49m\u001b[38;5;241;43m0\u001b[39;49m\n",
      "\u001b[1;31mZeroDivisionError\u001b[0m: division by zero"
     ]
    }
   ],
   "source": [
    "1 / 0"
   ]
  },
  {
   "cell_type": "code",
   "execution_count": 2,
   "id": "473d841d",
   "metadata": {},
   "outputs": [
    {
     "ename": "TypeError",
     "evalue": "can only concatenate str (not \"int\") to str",
     "output_type": "error",
     "traceback": [
      "\u001b[1;31m---------------------------------------------------------------------------\u001b[0m",
      "\u001b[1;31mTypeError\u001b[0m                                 Traceback (most recent call last)",
      "Cell \u001b[1;32mIn[2], line 1\u001b[0m\n\u001b[1;32m----> 1\u001b[0m \u001b[38;5;124;43m'\u001b[39;49m\u001b[38;5;124;43mabc\u001b[39;49m\u001b[38;5;124;43m'\u001b[39;49m\u001b[43m \u001b[49m\u001b[38;5;241;43m+\u001b[39;49m\u001b[43m \u001b[49m\u001b[38;5;241;43m2\u001b[39;49m\n",
      "\u001b[1;31mTypeError\u001b[0m: can only concatenate str (not \"int\") to str"
     ]
    }
   ],
   "source": [
    "'abc' + 2"
   ]
  },
  {
   "cell_type": "code",
   "execution_count": 4,
   "id": "e5270105",
   "metadata": {},
   "outputs": [
    {
     "name": "stdout",
     "output_type": "stream",
     "text": [
      "Enter Number1: 3\n",
      "Enter Number2: 0\n"
     ]
    },
    {
     "ename": "ZeroDivisionError",
     "evalue": "division by zero",
     "output_type": "error",
     "traceback": [
      "\u001b[1;31m---------------------------------------------------------------------------\u001b[0m",
      "\u001b[1;31mZeroDivisionError\u001b[0m                         Traceback (most recent call last)",
      "Cell \u001b[1;32mIn[4], line 3\u001b[0m\n\u001b[0;32m      1\u001b[0m x \u001b[38;5;241m=\u001b[39m \u001b[38;5;28minput\u001b[39m(\u001b[38;5;124m\"\u001b[39m\u001b[38;5;124mEnter Number1: \u001b[39m\u001b[38;5;124m\"\u001b[39m)\n\u001b[0;32m      2\u001b[0m y \u001b[38;5;241m=\u001b[39m \u001b[38;5;28minput\u001b[39m(\u001b[38;5;124m\"\u001b[39m\u001b[38;5;124mEnter Number2: \u001b[39m\u001b[38;5;124m\"\u001b[39m)\n\u001b[1;32m----> 3\u001b[0m z \u001b[38;5;241m=\u001b[39m \u001b[38;5;28;43mint\u001b[39;49m\u001b[43m(\u001b[49m\u001b[43mx\u001b[49m\u001b[43m)\u001b[49m\u001b[38;5;241;43m/\u001b[39;49m\u001b[38;5;28;43mint\u001b[39;49m\u001b[43m(\u001b[49m\u001b[43my\u001b[49m\u001b[43m)\u001b[49m\n\u001b[0;32m      4\u001b[0m \u001b[38;5;28mprint\u001b[39m(\u001b[38;5;124m\"\u001b[39m\u001b[38;5;124mDivision is :\u001b[39m\u001b[38;5;124m\"\u001b[39m, z)\n",
      "\u001b[1;31mZeroDivisionError\u001b[0m: division by zero"
     ]
    }
   ],
   "source": [
    "x = input(\"Enter Number1: \")\n",
    "y = input(\"Enter Number2: \")\n",
    "z = int(x)/int(y)\n",
    "print(\"Division is :\", z)"
   ]
  },
  {
   "cell_type": "code",
   "execution_count": 7,
   "id": "930bc921",
   "metadata": {},
   "outputs": [
    {
     "name": "stdout",
     "output_type": "stream",
     "text": [
      "Enter Number1: 1\n",
      "Enter Number2: 0\n",
      "Exception Occured: division by zero\n",
      "Division is : None\n"
     ]
    }
   ],
   "source": [
    "x = input(\"Enter Number1: \")\n",
    "y = input(\"Enter Number2: \")\n",
    "\n",
    "try:\n",
    "    z = int(x)/int(y)\n",
    "except Exception as e:\n",
    "    print(\"Exception Occured:\", e)\n",
    "    z = None\n",
    "    \n",
    "print(\"Division is :\", z)"
   ]
  },
  {
   "cell_type": "code",
   "execution_count": 8,
   "id": "a9c23809",
   "metadata": {},
   "outputs": [
    {
     "name": "stdout",
     "output_type": "stream",
     "text": [
      "Enter Number1: 23\n",
      "Enter Number2: 0\n",
      "Division by zero exception\n",
      "Division is : None\n"
     ]
    }
   ],
   "source": [
    "x = input(\"Enter Number1: \")\n",
    "y = input(\"Enter Number2: \")\n",
    "\n",
    "try:\n",
    "    z = int(x)/int(y)\n",
    "except ZeroDivisionError as e:\n",
    "    print(\"Division by zero exception\")\n",
    "    z = None\n",
    "    \n",
    "print(\"Division is :\", z)"
   ]
  },
  {
   "cell_type": "code",
   "execution_count": 9,
   "id": "9f4ddfa0",
   "metadata": {},
   "outputs": [
    {
     "name": "stdout",
     "output_type": "stream",
     "text": [
      "Enter Number1: 23\n",
      "Enter Number2: 3\n"
     ]
    },
    {
     "ename": "TypeError",
     "evalue": "unsupported operand type(s) for /: 'str' and 'int'",
     "output_type": "error",
     "traceback": [
      "\u001b[1;31m---------------------------------------------------------------------------\u001b[0m",
      "\u001b[1;31mTypeError\u001b[0m                                 Traceback (most recent call last)",
      "Cell \u001b[1;32mIn[9], line 5\u001b[0m\n\u001b[0;32m      2\u001b[0m y \u001b[38;5;241m=\u001b[39m \u001b[38;5;28minput\u001b[39m(\u001b[38;5;124m\"\u001b[39m\u001b[38;5;124mEnter Number2: \u001b[39m\u001b[38;5;124m\"\u001b[39m)\n\u001b[0;32m      4\u001b[0m \u001b[38;5;28;01mtry\u001b[39;00m:\n\u001b[1;32m----> 5\u001b[0m     z \u001b[38;5;241m=\u001b[39m \u001b[43mx\u001b[49m\u001b[38;5;241;43m/\u001b[39;49m\u001b[38;5;28;43mint\u001b[39;49m\u001b[43m(\u001b[49m\u001b[43my\u001b[49m\u001b[43m)\u001b[49m\n\u001b[0;32m      6\u001b[0m \u001b[38;5;28;01mexcept\u001b[39;00m \u001b[38;5;167;01mZeroDivisionError\u001b[39;00m \u001b[38;5;28;01mas\u001b[39;00m e:\n\u001b[0;32m      7\u001b[0m     \u001b[38;5;28mprint\u001b[39m(\u001b[38;5;124m\"\u001b[39m\u001b[38;5;124mDivision by zero exception\u001b[39m\u001b[38;5;124m\"\u001b[39m)\n",
      "\u001b[1;31mTypeError\u001b[0m: unsupported operand type(s) for /: 'str' and 'int'"
     ]
    }
   ],
   "source": [
    "x = input(\"Enter Number1: \")\n",
    "y = input(\"Enter Number2: \")\n",
    "\n",
    "try:\n",
    "    z = x/int(y)\n",
    "except ZeroDivisionError as e:\n",
    "    print(\"Division by zero exception\")\n",
    "    z = None\n",
    "    \n",
    "print(\"Division is :\", z)"
   ]
  },
  {
   "cell_type": "code",
   "execution_count": 11,
   "id": "d1c4bc10",
   "metadata": {},
   "outputs": [
    {
     "name": "stdout",
     "output_type": "stream",
     "text": [
      "Enter Number1: 23\n",
      "Enter Number2: 3\n",
      "Exception type: TypeError\n",
      "Division is : None\n"
     ]
    }
   ],
   "source": [
    "x = input(\"Enter Number1: \")\n",
    "y = input(\"Enter Number2: \")\n",
    "\n",
    "try:\n",
    "    z = x/int(y)\n",
    "except ZeroDivisionError as e:\n",
    "    print(\"Division by zero exception\")\n",
    "    z = None\n",
    "except Exception as e:\n",
    "    print(\"Exception type:\", type(e).__name__)\n",
    "    z = None\n",
    "    \n",
    "print(\"Division is :\", z)"
   ]
  },
  {
   "cell_type": "code",
   "execution_count": 12,
   "id": "786966d2",
   "metadata": {},
   "outputs": [
    {
     "name": "stdout",
     "output_type": "stream",
     "text": [
      "Enter Number1: 23\n",
      "Enter Number2: 32\n",
      "Type Error exception.\n",
      "Division is : None\n"
     ]
    }
   ],
   "source": [
    "x = input(\"Enter Number1: \")\n",
    "y = input(\"Enter Number2: \")\n",
    "\n",
    "try:\n",
    "    z = x/int(y)\n",
    "except ZeroDivisionError as e:\n",
    "    print(\"Division by zero exception\")\n",
    "    z = None\n",
    "except TypeError as e:\n",
    "    print(\"Type Error exception.\")\n",
    "    z = None\n",
    "    \n",
    "print(\"Division is :\", z)"
   ]
  },
  {
   "cell_type": "code",
   "execution_count": null,
   "id": "0133c156",
   "metadata": {},
   "outputs": [],
   "source": []
  }
 ],
 "metadata": {
  "kernelspec": {
   "display_name": "Python 3 (ipykernel)",
   "language": "python",
   "name": "python3"
  },
  "language_info": {
   "codemirror_mode": {
    "name": "ipython",
    "version": 3
   },
   "file_extension": ".py",
   "mimetype": "text/x-python",
   "name": "python",
   "nbconvert_exporter": "python",
   "pygments_lexer": "ipython3",
   "version": "3.10.9"
  }
 },
 "nbformat": 4,
 "nbformat_minor": 5
}
