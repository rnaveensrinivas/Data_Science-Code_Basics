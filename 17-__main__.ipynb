{
 "cells": [
  {
   "cell_type": "code",
   "execution_count": 1,
   "id": "6e07f38d",
   "metadata": {},
   "outputs": [
    {
     "data": {
      "text/plain": [
       "'__main__'"
      ]
     },
     "execution_count": 1,
     "metadata": {},
     "output_type": "execute_result"
    }
   ],
   "source": [
    "__name__"
   ]
  },
  {
   "cell_type": "code",
   "execution_count": 2,
   "id": "ee0c552f",
   "metadata": {},
   "outputs": [],
   "source": [
    "def calculate_area(base, height):\n",
    "    return 1 / 2 * (base * height)"
   ]
  },
  {
   "cell_type": "code",
   "execution_count": 4,
   "id": "6ef78083",
   "metadata": {},
   "outputs": [
    {
     "name": "stdout",
     "output_type": "stream",
     "text": [
      "area: 100.0\n"
     ]
    }
   ],
   "source": [
    "if __name__ == \"__main__\":\n",
    "    a = calculate_area(10, 20)\n",
    "    print(\"area:\", a)"
   ]
  },
  {
   "cell_type": "code",
   "execution_count": null,
   "id": "318377cb",
   "metadata": {},
   "outputs": [],
   "source": [
    " # it is used as entry point for any program.  "
   ]
  }
 ],
 "metadata": {
  "kernelspec": {
   "display_name": "Python 3 (ipykernel)",
   "language": "python",
   "name": "python3"
  },
  "language_info": {
   "codemirror_mode": {
    "name": "ipython",
    "version": 3
   },
   "file_extension": ".py",
   "mimetype": "text/x-python",
   "name": "python",
   "nbconvert_exporter": "python",
   "pygments_lexer": "ipython3",
   "version": "3.10.9"
  }
 },
 "nbformat": 4,
 "nbformat_minor": 5
}
