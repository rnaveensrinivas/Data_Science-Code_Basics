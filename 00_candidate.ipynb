{
 "cells": [
  {
   "cell_type": "code",
   "execution_count": 1,
   "id": "a712abb6",
   "metadata": {},
   "outputs": [
    {
     "name": "stdout",
     "output_type": "stream",
     "text": [
      "  state AccountType  Education  Employment Application on  Y/N\n",
      "0    MP         NaN   Bachelor    Employed         Online  Yes\n",
      "1    MP     Savings  Doctorate  Unemployed        Offline   No\n",
      "2    MP     Savings   Bachelor    Employed         Online  Yes\n",
      "3    MH     Current     Master    Employed         Online   No\n",
      "4    MP         NaN  Doctorate    Employed         Online  Yes\n",
      "5    MP     Savings  Doctorate  Unemployed         Online  Yes\n",
      "6    MP         NaN     Master  Unemployed        Offline   No\n"
     ]
    }
   ],
   "source": [
    "import pandas as pd\n",
    "import numpy as np\n",
    "import matplotlib.pyplot as plt\n",
    "\n",
    "data = pd.read_csv('Candidate.csv')\n",
    "print(data)\n"
   ]
  },
  {
   "cell_type": "code",
   "execution_count": 2,
   "id": "563dbbe0",
   "metadata": {},
   "outputs": [
    {
     "name": "stdout",
     "output_type": "stream",
     "text": [
      "[['MP' nan 'Bachelor' 'Employed' 'Online']\n",
      " ['MP' 'Savings' 'Doctorate' 'Unemployed' 'Offline']\n",
      " ['MP' 'Savings' 'Bachelor' 'Employed' 'Online']\n",
      " ['MH' 'Current' 'Master' 'Employed' 'Online']\n",
      " ['MP' nan 'Doctorate' 'Employed' 'Online']\n",
      " ['MP' 'Savings' 'Doctorate' 'Unemployed' 'Online']\n",
      " ['MP' nan 'Master' 'Unemployed' 'Offline']]\n"
     ]
    }
   ],
   "source": [
    "concept = np.array(data)[:,:-1]\n",
    "print(concept)"
   ]
  },
  {
   "cell_type": "code",
   "execution_count": 3,
   "id": "47394faf",
   "metadata": {},
   "outputs": [
    {
     "name": "stdout",
     "output_type": "stream",
     "text": [
      "['Yes' 'No' 'Yes' 'No' 'Yes' 'Yes' 'No']\n"
     ]
    }
   ],
   "source": [
    "target = np.array(data)[:,-1]\n",
    "print(target)"
   ]
  },
  {
   "cell_type": "code",
   "execution_count": 4,
   "id": "35c4440c",
   "metadata": {},
   "outputs": [],
   "source": [
    "def learn(concepts, target): \n",
    "    specific_h = concepts[0].copy()\n",
    "    print(\"\\nInitialization of specific_h and genearal_h\")\n",
    "    print(\"\\nSpecific Boundary: \", specific_h)\n",
    "    general_h = [[\"?\" for i in range(len(specific_h))] for i in range(len(specific_h))]\n",
    "    print(\"\\nGeneric Boundary: \",general_h)  \n",
    "\n",
    "    for i, h in enumerate(concepts):\n",
    "      #  print(\"\\nInstance\", i+1 , \"is \", h)\n",
    "        if target[i] == \"Yes\":\n",
    "            print(\"Instance is Positive \")\n",
    "            for x in range(len(specific_h)): \n",
    "                if h[x]!= specific_h[x]:                    \n",
    "                    specific_h[x] ='?'                     \n",
    "                    general_h[x][x] ='?'\n",
    "                   \n",
    "        if target[i] == \"No\":            \n",
    "          #  print(\"Instance is Negative \")\n",
    "            for x in range(len(specific_h)): \n",
    "                if h[x]!= specific_h[x]:                    \n",
    "                    general_h[x][x] = specific_h[x]                \n",
    "                else:                    \n",
    "                    general_h[x][x] = '?'   \n",
    "                    \n",
    "        print(\"Specific Bundary after \", i+1, \"Instance is \", specific_h)         \n",
    "        print(\"Generic Boundary after \", i+1, \"Instance is \", general_h)\n",
    "        print(\"\\n\")\n",
    "        \n",
    "    indices = [i for i, val in enumerate(general_h) if val == ['?', '?', '?', '?', '?', '?']]    \n",
    "    for i in indices:   \n",
    "        general_h.remove(['?', '?', '?', '?', '?', '?']) \n",
    "    return specific_h, general_h "
   ]
  },
  {
   "cell_type": "code",
   "execution_count": 15,
   "id": "341a61c0",
   "metadata": {},
   "outputs": [
    {
     "name": "stdout",
     "output_type": "stream",
     "text": [
      "\n",
      "Initialization of specific_h and genearal_h\n",
      "\n",
      "Specific Boundary:  ['MP' nan 'Bachelor' 'Employed' 'Online']\n",
      "\n",
      "Generic Boundary:  [['?', '?', '?', '?', '?'], ['?', '?', '?', '?', '?'], ['?', '?', '?', '?', '?'], ['?', '?', '?', '?', '?'], ['?', '?', '?', '?', '?']]\n",
      "Instance is Positive \n",
      "Specific Bundary after  1 Instance is  ['MP' '?' 'Bachelor' 'Employed' 'Online']\n",
      "Generic Boundary after  1 Instance is  [['?', '?', '?', '?', '?'], ['?', '?', '?', '?', '?'], ['?', '?', '?', '?', '?'], ['?', '?', '?', '?', '?'], ['?', '?', '?', '?', '?']]\n",
      "\n",
      "\n",
      "Specific Bundary after  2 Instance is  ['MP' '?' 'Bachelor' 'Employed' 'Online']\n",
      "Generic Boundary after  2 Instance is  [['?', '?', '?', '?', '?'], ['?', '?', '?', '?', '?'], ['?', '?', 'Bachelor', '?', '?'], ['?', '?', '?', 'Employed', '?'], ['?', '?', '?', '?', 'Online']]\n",
      "\n",
      "\n",
      "Instance is Positive \n",
      "Specific Bundary after  3 Instance is  ['MP' '?' 'Bachelor' 'Employed' 'Online']\n",
      "Generic Boundary after  3 Instance is  [['?', '?', '?', '?', '?'], ['?', '?', '?', '?', '?'], ['?', '?', 'Bachelor', '?', '?'], ['?', '?', '?', 'Employed', '?'], ['?', '?', '?', '?', 'Online']]\n",
      "\n",
      "\n",
      "Specific Bundary after  4 Instance is  ['MP' '?' 'Bachelor' 'Employed' 'Online']\n",
      "Generic Boundary after  4 Instance is  [['MP', '?', '?', '?', '?'], ['?', '?', '?', '?', '?'], ['?', '?', 'Bachelor', '?', '?'], ['?', '?', '?', '?', '?'], ['?', '?', '?', '?', '?']]\n",
      "\n",
      "\n",
      "Instance is Positive \n",
      "Specific Bundary after  5 Instance is  ['MP' '?' '?' 'Employed' 'Online']\n",
      "Generic Boundary after  5 Instance is  [['MP', '?', '?', '?', '?'], ['?', '?', '?', '?', '?'], ['?', '?', '?', '?', '?'], ['?', '?', '?', '?', '?'], ['?', '?', '?', '?', '?']]\n",
      "\n",
      "\n",
      "Instance is Positive \n",
      "Specific Bundary after  6 Instance is  ['MP' '?' '?' '?' 'Online']\n",
      "Generic Boundary after  6 Instance is  [['MP', '?', '?', '?', '?'], ['?', '?', '?', '?', '?'], ['?', '?', '?', '?', '?'], ['?', '?', '?', '?', '?'], ['?', '?', '?', '?', '?']]\n",
      "\n",
      "\n",
      "Specific Bundary after  7 Instance is  ['MP' '?' '?' '?' 'Online']\n",
      "Generic Boundary after  7 Instance is  [['?', '?', '?', '?', '?'], ['?', '?', '?', '?', '?'], ['?', '?', '?', '?', '?'], ['?', '?', '?', '?', '?'], ['?', '?', '?', '?', 'Online']]\n",
      "\n",
      "\n"
     ]
    },
    {
     "data": {
      "text/plain": [
       "<function matplotlib.pyplot.show(close=None, block=None)>"
      ]
     },
     "execution_count": 15,
     "metadata": {},
     "output_type": "execute_result"
    },
    {
     "data": {
      "image/png": "[encoded data removed]",
      "text/plain": [
       "<Figure size 640x480 with 1 Axes>"
      ]
     },
     "metadata": {},
     "output_type": "display_data"
    }
   ],
   "source": [
    "s_final, g_final = learn(concept, target)\n",
    "\n",
    "plt.plot(concept[:,0],target)\n",
    "plt.xlabel(\"Savings\")\n",
    "plt.ylabel(\"Y/N\")  \n",
    "plt.show\n"
   ]
  },
  {
   "cell_type": "code",
   "execution_count": 9,
   "id": "bac41688",
   "metadata": {},
   "outputs": [
    {
     "name": "stdout",
     "output_type": "stream",
     "text": [
      "Final Specific_h: \n",
      "['MP' '?' '?' '?' 'Online']\n",
      "\n",
      "\n",
      "Final General_h: \n",
      "[['?', '?', '?', '?', '?'], ['?', '?', '?', '?', '?'], ['?', '?', '?', '?', '?'], ['?', '?', '?', '?', '?'], ['?', '?', '?', '?', 'Online']]\n"
     ]
    }
   ],
   "source": [
    "print(\"Final Specific_h: \", s_final,\"\\n\", sep=\"\\n\")\n",
    "print(\"Final General_h: \", g_final, sep=\"\\n\")"
   ]
  },
  {
   "cell_type": "code",
   "execution_count": null,
   "id": "198eaabf",
   "metadata": {},
   "outputs": [],
   "source": []
  }
 ],
 "metadata": {
  "kernelspec": {
   "display_name": "Python 3 (ipykernel)",
   "language": "python",
   "name": "python3"
  },
  "language_info": {
   "codemirror_mode": {
    "name": "ipython",
    "version": 3
   },
   "file_extension": ".py",
   "mimetype": "text/x-python",
   "name": "python",
   "nbconvert_exporter": "python",
   "pygments_lexer": "ipython3",
   "version": "3.10.9"
  }
 },
 "nbformat": 4,
 "nbformat_minor": 5
}
