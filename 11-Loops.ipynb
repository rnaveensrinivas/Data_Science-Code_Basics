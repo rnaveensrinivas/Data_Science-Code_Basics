{
 "cells": [
  {
   "cell_type": "code",
   "execution_count": 1,
   "id": "4a641773",
   "metadata": {},
   "outputs": [
    {
     "name": "stdout",
     "output_type": "stream",
     "text": [
      "13020\n"
     ]
    }
   ],
   "source": [
    "# store monthly expenses in a list and find out toal expenses for all months\n",
    "\n",
    "exp = [2340, 2500, 2100, 3100, 2980,]\n",
    "total = exp[0] + exp[1] + exp[2] + exp[3] + exp[4]\n",
    "print(total)"
   ]
  },
  {
   "cell_type": "code",
   "execution_count": 2,
   "id": "0a49c803",
   "metadata": {},
   "outputs": [
    {
     "name": "stdout",
     "output_type": "stream",
     "text": [
      "13020\n"
     ]
    }
   ],
   "source": [
    "print(sum(exp))"
   ]
  },
  {
   "cell_type": "code",
   "execution_count": 5,
   "id": "84f7e552",
   "metadata": {},
   "outputs": [
    {
     "name": "stdout",
     "output_type": "stream",
     "text": [
      "13020\n"
     ]
    }
   ],
   "source": [
    "total = 0\n",
    "for item in exp:\n",
    "    total += item\n",
    "    \n",
    "print(total)"
   ]
  },
  {
   "cell_type": "code",
   "execution_count": 6,
   "id": "6e4e2c58",
   "metadata": {},
   "outputs": [
    {
     "name": "stdout",
     "output_type": "stream",
     "text": [
      "1\n",
      "2\n",
      "3\n",
      "4\n",
      "5\n",
      "6\n",
      "7\n",
      "8\n",
      "9\n",
      "10\n"
     ]
    }
   ],
   "source": [
    "for i in range(1,11):\n",
    "    print(i)"
   ]
  },
  {
   "cell_type": "code",
   "execution_count": 8,
   "id": "a4ea2a46",
   "metadata": {},
   "outputs": [
    {
     "name": "stdout",
     "output_type": "stream",
     "text": [
      "1\n",
      "4\n",
      "27\n",
      "256\n",
      "3125\n",
      "46656\n",
      "823543\n",
      "16777216\n",
      "387420489\n",
      "10000000000\n"
     ]
    }
   ],
   "source": [
    "for i in range(1,11):\n",
    "    print(i**i)"
   ]
  },
  {
   "cell_type": "code",
   "execution_count": 12,
   "id": "5a83524e",
   "metadata": {},
   "outputs": [
    {
     "name": "stdout",
     "output_type": "stream",
     "text": [
      "Month: 1 - Expenses:  2340\n",
      "Month: 2 - Expenses:  2500\n",
      "Month: 3 - Expenses:  2100\n",
      "Month: 4 - Expenses:  3100\n",
      "Month: 5 - Expenses:  2980\n",
      "Total:  13020\n"
     ]
    }
   ],
   "source": [
    "total = 0\n",
    "for i in range(len(exp)):\n",
    "    print('Month:', i + 1, '- Expenses: ', exp[i])\n",
    "    total = total + exp[i]\n",
    "\n",
    "print(\"Total: \", total)"
   ]
  },
  {
   "cell_type": "code",
   "execution_count": 13,
   "id": "ea4ad536",
   "metadata": {},
   "outputs": [
    {
     "name": "stdout",
     "output_type": "stream",
     "text": [
      "Key is not found in  garage\n",
      "Key is not found in  living room\n",
      "Key is found in  chair\n"
     ]
    }
   ],
   "source": [
    "key_location = \"chair\"\n",
    "locations = [\"garage\", \"living room\", \"chair\", \"closet\"]\n",
    "\n",
    "for location in locations:\n",
    "    if location == key_location:\n",
    "        print(\"Key is found in \", location)\n",
    "        break\n",
    "    else:\n",
    "        print(\"Key is not found in \", location)"
   ]
  },
  {
   "cell_type": "code",
   "execution_count": 18,
   "id": "1eec51c1",
   "metadata": {},
   "outputs": [
    {
     "ename": "IndentationError",
     "evalue": "expected an indented block after 'if' statement on line 2 (3879707705.py, line 4)",
     "output_type": "error",
     "traceback": [
      "\u001b[1;36m  Cell \u001b[1;32mIn[18], line 4\u001b[1;36m\u001b[0m\n\u001b[1;33m    else:\u001b[0m\n\u001b[1;37m    ^\u001b[0m\n\u001b[1;31mIndentationError\u001b[0m\u001b[1;31m:\u001b[0m expected an indented block after 'if' statement on line 2\n"
     ]
    }
   ],
   "source": [
    "# printing only even squares.\n",
    "for i in range(1,6):\n",
    "    if i % 2 == 0:\n",
    "        \n",
    "    else:\n",
    "        print(i*i)"
   ]
  },
  {
   "cell_type": "code",
   "execution_count": 19,
   "id": "94e82a5a",
   "metadata": {},
   "outputs": [
    {
     "name": "stdout",
     "output_type": "stream",
     "text": [
      "1\n",
      "9\n",
      "25\n"
     ]
    }
   ],
   "source": [
    "# printing only even squares.\n",
    "for i in range(1,6):\n",
    "    if i % 2 == 0:\n",
    "        continue\n",
    "    else:\n",
    "        print(i*i)"
   ]
  },
  {
   "cell_type": "code",
   "execution_count": 20,
   "id": "475bb6f8",
   "metadata": {},
   "outputs": [
    {
     "name": "stdout",
     "output_type": "stream",
     "text": [
      "1\n",
      "2\n",
      "3\n",
      "4\n",
      "5\n"
     ]
    }
   ],
   "source": [
    "i = 1\n",
    "while i <= 5:\n",
    "    print(i)\n",
    "    i += 1"
   ]
  },
  {
   "cell_type": "code",
   "execution_count": null,
   "id": "e92902c8",
   "metadata": {},
   "outputs": [],
   "source": []
  }
 ],
 "metadata": {
  "kernelspec": {
   "display_name": "Python 3 (ipykernel)",
   "language": "python",
   "name": "python3"
  },
  "language_info": {
   "codemirror_mode": {
    "name": "ipython",
    "version": 3
   },
   "file_extension": ".py",
   "mimetype": "text/x-python",
   "name": "python",
   "nbconvert_exporter": "python",
   "pygments_lexer": "ipython3",
   "version": "3.10.9"
  }
 },
 "nbformat": 4,
 "nbformat_minor": 5
}
