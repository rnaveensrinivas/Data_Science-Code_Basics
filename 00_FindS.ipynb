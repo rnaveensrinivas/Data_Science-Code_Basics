{
 "cells": [
  {
   "cell_type": "code",
   "execution_count": 1,
   "id": "23c4aee1-ab68-45b4-92e3-21d0ee2a5397",
   "metadata": {},
   "outputs": [
    {
     "name": "stdout",
     "output_type": "stream",
     "text": [
      "   Sno  colour Toughness Fungus Appearance Poisonous\n",
      "0    1   Green      Hard     No   Wrinkled       Yes\n",
      "1    2   Green      Hard    Yes     Smooth        No\n",
      "2    3   Brown      soft     No   Wrinkled        No\n",
      "3    4  Orange      Hard     No   Wrinkled       Yes\n",
      "4    5  Green       soft    Yes     Smooth       Yes\n",
      "5    6   Green      Hard    Yes   Wrinkled       Yes\n",
      "6    7  Orange      Hard     No   Wrinkled       Yes\n",
      "7    8   Green      Hard     No   Wrinkled        No\n"
     ]
    }
   ],
   "source": [
    "import numpy as np\n",
    "import pandas as pd\n",
    "\n",
    "data = pd.read_csv('Fungus.csv')\n",
    "print(data)"
   ]
  },
  {
   "cell_type": "code",
   "execution_count": 13,
   "id": "51c3707d-0c6b-4745-8ef7-bfad4334b6c1",
   "metadata": {},
   "outputs": [
    {
     "name": "stdout",
     "output_type": "stream",
     "text": [
      "[['Green' 'Hard' 'No' 'Wrinkled']\n",
      " ['Green' 'Hard' 'Yes' 'Smooth']\n",
      " ['Brown' 'soft' 'No' 'Wrinkled']\n",
      " ['Orange' 'Hard' 'No' 'Wrinkled']\n",
      " ['Green ' 'soft' 'Yes' 'Smooth']\n",
      " ['Green' 'Hard' 'Yes' 'Wrinkled']\n",
      " ['Orange' 'Hard' 'No' 'Wrinkled']\n",
      " ['Green' 'Hard' 'No' 'Wrinkled']]\n",
      "\n",
      "['Yes' 'No' 'No' 'Yes' 'Yes' 'Yes' 'Yes' 'No']\n"
     ]
    }
   ],
   "source": [
    "concepts = np.array(data)[:,1:-1]\n",
    "target = np.array(data)[:,-1]\n",
    "\n",
    "print(concepts)\n",
    "print()\n",
    "print(target)"
   ]
  },
  {
   "cell_type": "code",
   "execution_count": 14,
   "id": "47e672aa",
   "metadata": {},
   "outputs": [
    {
     "name": "stdout",
     "output_type": "stream",
     "text": [
      "['Green' 'Hard' 'No' 'Wrinkled']\n",
      "\n",
      "sample:  ['Green' 'Hard' 'No' 'Wrinkled'] Yes\n",
      "specific hypo: ['Green' 'Hard' 'No' 'Wrinkled']\n",
      "\n",
      "sample:  ['Green' 'Hard' 'Yes' 'Smooth'] No\n",
      "specific hypo: ['Green' 'Hard' 'No' 'Wrinkled']\n",
      "\n",
      "sample:  ['Brown' 'soft' 'No' 'Wrinkled'] No\n",
      "specific hypo: ['Green' 'Hard' 'No' 'Wrinkled']\n",
      "\n",
      "sample:  ['Orange' 'Hard' 'No' 'Wrinkled'] Yes\n",
      "specific hypo: ['?' 'Hard' 'No' 'Wrinkled']\n",
      "\n",
      "sample:  ['Green ' 'soft' 'Yes' 'Smooth'] Yes\n",
      "specific hypo: ['?' '?' '?' '?']\n",
      "\n",
      "sample:  ['Green' 'Hard' 'Yes' 'Wrinkled'] Yes\n",
      "specific hypo: ['?' '?' '?' '?']\n",
      "\n",
      "sample:  ['Orange' 'Hard' 'No' 'Wrinkled'] Yes\n",
      "specific hypo: ['?' '?' '?' '?']\n",
      "\n",
      "sample:  ['Green' 'Hard' 'No' 'Wrinkled'] No\n",
      "specific hypo: ['?' '?' '?' '?']\n",
      "\n",
      "['?' '?' '?' '?']\n"
     ]
    }
   ],
   "source": [
    "def train(con,tar):\n",
    "    for i,val in enumerate(tar):\n",
    "        if val == 'Yes':\n",
    "            specific_h = con[i].copy()\n",
    "            break\n",
    "    \n",
    "    print(specific_h)\n",
    "    print()\n",
    "    \n",
    "    for i,val in enumerate(con):\n",
    "        print('sample: ',con[i],tar[i])\n",
    "        if tar[i] == 'Yes':\n",
    "            for x in range(len(specific_h)):\n",
    "                if val[x] != specific_h[x]:\n",
    "                    specific_h[x] = '?' \n",
    "                else:\n",
    "                    pass\n",
    "        print('specific hypo:', specific_h)\n",
    "        print()\n",
    "                \n",
    "    return specific_h\n",
    "\n",
    "print(train(concepts,target))"
   ]
  },
  {
   "cell_type": "code",
   "execution_count": null,
   "id": "714e7dda",
   "metadata": {},
   "outputs": [],
   "source": []
  }
 ],
 "metadata": {
  "kernelspec": {
   "display_name": "Python 3 (ipykernel)",
   "language": "python",
   "name": "python3"
  },
  "language_info": {
   "codemirror_mode": {
    "name": "ipython",
    "version": 3
   },
   "file_extension": ".py",
   "mimetype": "text/x-python",
   "name": "python",
   "nbconvert_exporter": "python",
   "pygments_lexer": "ipython3",
   "version": "3.10.9"
  }
 },
 "nbformat": 4,
 "nbformat_minor": 5
}
