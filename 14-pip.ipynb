{
 "cells": [
  {
   "cell_type": "code",
   "execution_count": 1,
   "id": "2db5eb8a",
   "metadata": {},
   "outputs": [],
   "source": [
    "# pip = pip installs packages."
   ]
  },
  {
   "cell_type": "code",
   "execution_count": 2,
   "id": "32b8a9d6",
   "metadata": {},
   "outputs": [
    {
     "name": "stdout",
     "output_type": "stream",
     "text": [
      "Requirement already satisfied: matplotlib in c:\\users\\sri\\anaconda3\\lib\\site-packages (3.7.0)\n",
      "Requirement already satisfied: numpy>=1.20 in c:\\users\\sri\\anaconda3\\lib\\site-packages (from matplotlib) (1.23.5)\n",
      "Requirement already satisfied: contourpy>=1.0.1 in c:\\users\\sri\\anaconda3\\lib\\site-packages (from matplotlib) (1.0.5)\n",
      "Requirement already satisfied: cycler>=0.10 in c:\\users\\sri\\anaconda3\\lib\\site-packages (from matplotlib) (0.11.0)\n",
      "Requirement already satisfied: fonttools>=4.22.0 in c:\\users\\sri\\anaconda3\\lib\\site-packages (from matplotlib) (4.25.0)\n",
      "Requirement already satisfied: kiwisolver>=1.0.1 in c:\\users\\sri\\anaconda3\\lib\\site-packages (from matplotlib) (1.4.4)\n",
      "Requirement already satisfied: packaging>=20.0 in c:\\users\\sri\\anaconda3\\lib\\site-packages (from matplotlib) (22.0)\n",
      "Requirement already satisfied: python-dateutil>=2.7 in c:\\users\\sri\\anaconda3\\lib\\site-packages (from matplotlib) (2.8.2)\n",
      "Requirement already satisfied: pyparsing>=2.3.1 in c:\\users\\sri\\anaconda3\\lib\\site-packages (from matplotlib) (3.0.9)\n",
      "Requirement already satisfied: pillow>=6.2.0 in c:\\users\\sri\\anaconda3\\lib\\site-packages (from matplotlib) (9.4.0)\n",
      "Requirement already satisfied: six>=1.5 in c:\\users\\sri\\anaconda3\\lib\\site-packages (from python-dateutil>=2.7->matplotlib) (1.16.0)\n",
      "Note: you may need to restart the kernel to use updated packages.\n"
     ]
    }
   ],
   "source": [
    "pip install matplotlib"
   ]
  },
  {
   "cell_type": "code",
   "execution_count": 3,
   "id": "82c4bb26",
   "metadata": {},
   "outputs": [],
   "source": [
    "import matplotlib"
   ]
  },
  {
   "cell_type": "markdown",
   "id": "199b4426",
   "metadata": {},
   "source": [
    "How it works: there is something called PyPI- the Python Package Index. So what we want to install goes to this page and check for the presence of such a file there. If present then it downloads it, else it disgards it."
   ]
  },
  {
   "cell_type": "code",
   "execution_count": 4,
   "id": "7f5a28ea",
   "metadata": {},
   "outputs": [
    {
     "name": "stdout",
     "output_type": "stream",
     "text": [
      "Collecting naveenNote: you may need to restart the kernel to use updated packages.\n",
      "\n",
      "  Downloading naveen-0.3.7-py3-none-any.whl (19 kB)\n",
      "Requirement already satisfied: numpy in c:\\users\\sri\\anaconda3\\lib\\site-packages (from naveen) (1.23.5)\n",
      "Requirement already satisfied: pandas in c:\\users\\sri\\anaconda3\\lib\\site-packages (from naveen) (1.5.3)\n",
      "Collecting bs4\n",
      "  Downloading bs4-0.0.1.tar.gz (1.1 kB)\n",
      "  Preparing metadata (setup.py): started\n",
      "  Preparing metadata (setup.py): finished with status 'done'\n",
      "Requirement already satisfied: pyyaml in c:\\users\\sri\\anaconda3\\lib\\site-packages (from naveen) (6.0)\n",
      "Requirement already satisfied: beautifulsoup4 in c:\\users\\sri\\anaconda3\\lib\\site-packages (from bs4->naveen) (4.11.1)\n",
      "Requirement already satisfied: pytz>=2020.1 in c:\\users\\sri\\anaconda3\\lib\\site-packages (from pandas->naveen) (2022.7)\n",
      "Requirement already satisfied: python-dateutil>=2.8.1 in c:\\users\\sri\\anaconda3\\lib\\site-packages (from pandas->naveen) (2.8.2)\n",
      "Requirement already satisfied: six>=1.5 in c:\\users\\sri\\anaconda3\\lib\\site-packages (from python-dateutil>=2.8.1->pandas->naveen) (1.16.0)\n",
      "Requirement already satisfied: soupsieve>1.2 in c:\\users\\sri\\anaconda3\\lib\\site-packages (from beautifulsoup4->bs4->naveen) (2.3.2.post1)\n",
      "Building wheels for collected packages: bs4\n",
      "  Building wheel for bs4 (setup.py): started\n",
      "  Building wheel for bs4 (setup.py): finished with status 'done'\n",
      "  Created wheel for bs4: filename=bs4-0.0.1-py3-none-any.whl size=1264 sha256=9b1a1a684a9016d859f282262014eb96c647ddf5756958f14b38462c1060f875\n",
      "  Stored in directory: c:\\users\\sri\\appdata\\local\\pip\\cache\\wheels\\e4\\62\\1d\\d4d1bc4f33350ff84227f89b258edb552d604138e3739f5c83\n",
      "Successfully built bs4\n",
      "Installing collected packages: bs4, naveen\n",
      "Successfully installed bs4-0.0.1 naveen-0.3.7\n"
     ]
    }
   ],
   "source": [
    "pip install naveen"
   ]
  },
  {
   "cell_type": "code",
   "execution_count": 5,
   "id": "fb5793fe",
   "metadata": {},
   "outputs": [
    {
     "name": "stdout",
     "output_type": "stream",
     "text": [
      "Note: you may need to restart the kernel to use updated packages.\n"
     ]
    },
    {
     "name": "stderr",
     "output_type": "stream",
     "text": [
      "ERROR: Could not find a version that satisfies the requirement asdfasdfljsfsfe (from versions: none)\n",
      "ERROR: No matching distribution found for asdfasdfljsfsfe\n"
     ]
    }
   ],
   "source": [
    "pip install asdfasdfljsfsfe"
   ]
  },
  {
   "cell_type": "code",
   "execution_count": null,
   "id": "b9c2216f",
   "metadata": {},
   "outputs": [],
   "source": [
    "pip uninstall naveen # will not work in here. Have to do in cmd only"
   ]
  },
  {
   "cell_type": "code",
   "execution_count": null,
   "id": "061b19ec",
   "metadata": {},
   "outputs": [],
   "source": [
    "pip uninstall matplotlib"
   ]
  },
  {
   "cell_type": "code",
   "execution_count": null,
   "id": "89ff2852",
   "metadata": {},
   "outputs": [],
   "source": []
  }
 ],
 "metadata": {
  "kernelspec": {
   "display_name": "Python 3 (ipykernel)",
   "language": "python",
   "name": "python3"
  },
  "language_info": {
   "codemirror_mode": {
    "name": "ipython",
    "version": 3
   },
   "file_extension": ".py",
   "mimetype": "text/x-python",
   "name": "python",
   "nbconvert_exporter": "python",
   "pygments_lexer": "ipython3",
   "version": "3.10.9"
  }
 },
 "nbformat": 4,
 "nbformat_minor": 5
}
